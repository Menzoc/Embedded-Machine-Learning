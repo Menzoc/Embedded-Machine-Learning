{
 "cells": [
  {
   "cell_type": "code",
   "execution_count": 19,
   "metadata": {
    "collapsed": true
   },
   "outputs": [],
   "source": [
    "import os\n",
    "import graphviz\n",
    "import time\n",
    "\n",
    "import pandas as pd\n",
    "import numpy as np\n",
    "import matplotlib.pyplot as plt\n",
    "\n",
    "from time import time\n",
    "from sklearn import tree\n",
    "from sklearn.ensemble import RandomForestClassifier\n",
    "from sklearn.metrics import classification_report, ConfusionMatrixDisplay\n",
    "from sklearn.model_selection import train_test_split, GridSearchCV\n",
    "\n",
    "from utils import tree_to_csv, CSV_HEADER\n",
    "\n",
    "CART_MODEL_CSV = os.path.join(\"./\", \"cart_model_mfcc.csv\")\n",
    "GRAPHVIZ_NAME = \"cart_graph_mfcc\""
   ]
  },
  {
   "cell_type": "markdown",
   "metadata": {
    "collapsed": false,
    "pycharm": {
     "name": "#%% md\n"
    }
   },
   "source": [
    "### Extract the dataset from the .au csv files"
   ]
  },
  {
   "cell_type": "code",
   "execution_count": 20,
   "metadata": {
    "collapsed": false,
    "pycharm": {
     "name": "#%%\n"
    }
   },
   "outputs": [
    {
     "name": "stdout",
     "output_type": "stream",
     "text": [
      "Extracting dataset training set...\n",
      "File contains 10 unique_label_names: \n",
      "File contains 799 lines of 42 data \n",
      "Extracting dataset testing set...\n",
      "File contains 10 unique_label_names: \n",
      "File contains 201 lines of 42 data \n"
     ]
    }
   ],
   "source": [
    "print(\"Extracting dataset training set...\")\n",
    "dataset = '../../datasets/music_features_mfcc_train.csv'\n",
    "musics_df = pd.read_csv(dataset, header=0)\n",
    "# Get all style values\n",
    "Y_train = musics_df[\"style\"].values\n",
    "# Get all features names\n",
    "features_name = musics_df.columns.values[:-2]\n",
    "# Get all features values\n",
    "# musics_df = musics_df.drop('style', axis=1)\n",
    "# musics_df = musics_df.drop('file_name', axis=1)\n",
    "# X = musics_df.values\n",
    "X_train = musics_df.loc[:, ~musics_df.columns.isin(['style', 'file_name'])].values\n",
    "unique_label_names = np.unique(Y_train)\n",
    "\n",
    "print(\"File contains {} unique_label_names: \".format(len(unique_label_names), unique_label_names))\n",
    "print(\"File contains {} lines of {} data \".format(X_train.shape[0], X_train.shape[1]))\n",
    "\n",
    "print(\"Extracting dataset testing set...\")\n",
    "dataset = '../../datasets/music_features_mfcc_test.csv'\n",
    "musics_df = pd.read_csv(dataset, header=0)\n",
    "# Get all style values\n",
    "Y_test = musics_df[\"style\"].values\n",
    "# Get all features names\n",
    "features_name = musics_df.columns.values[:-2]\n",
    "# Get all features values\n",
    "# musics_df = musics_df.drop('style', axis=1)\n",
    "# musics_df = musics_df.drop('file_name', axis=1)\n",
    "# X = musics_df.values\n",
    "X_test = musics_df.loc[:, ~musics_df.columns.isin(['style', 'file_name'])].values\n",
    "unique_label_names = np.unique(Y_test)\n",
    "\n",
    "print(\"File contains {} unique_label_names: \".format(len(unique_label_names), unique_label_names))\n",
    "print(\"File contains {} lines of {} data \".format(X_test.shape[0], X_test.shape[1]))"
   ]
  },
  {
   "cell_type": "markdown",
   "metadata": {},
   "source": [
    "# Simple Decision Tree"
   ]
  },
  {
   "cell_type": "markdown",
   "metadata": {},
   "source": [
    "### Optimize model using Grid search and cross validation"
   ]
  },
  {
   "cell_type": "code",
   "execution_count": 21,
   "metadata": {},
   "outputs": [
    {
     "name": "stdout",
     "output_type": "stream",
     "text": [
      "Creating Decision Tree model...\n",
      "Training Decision Tree model using grid search and cross validation...\n",
      "Fitting 5 folds for each of 20 candidates, totalling 100 fits\n",
      "[CV] END ........................................max_depth=1; total time=   0.0s\n",
      "[CV] END ........................................max_depth=2; total time=   0.0s\n",
      "[CV] END ........................................max_depth=2; total time=   0.0s[CV] END ........................................max_depth=1; total time=   0.0s\n",
      "\n",
      "[CV] END ........................................max_depth=2; total time=   0.0s[CV] END ........................................max_depth=2; total time=   0.0s\n",
      "\n",
      "[CV] END ........................................max_depth=1; total time=   0.0s\n",
      "[CV] END ........................................max_depth=3; total time=   0.0s\n",
      "[CV] END ........................................max_depth=3; total time=   0.0s[CV] END ........................................max_depth=3; total time=   0.0s[CV] END ........................................max_depth=1; total time=   0.0s\n",
      "\n",
      "\n",
      "[CV] END ........................................max_depth=3; total time=   0.0s\n",
      "[CV] END ........................................max_depth=4; total time=   0.0s[CV] END ........................................max_depth=3; total time=   0.0s\n",
      "\n",
      "[CV] END ........................................max_depth=4; total time=   0.0s\n",
      "[CV] END ........................................max_depth=1; total time=   0.0s\n",
      "[CV] END ........................................max_depth=4; total time=   0.0s\n",
      "[CV] END ........................................max_depth=4; total time=   0.0s\n",
      "[CV] END ........................................max_depth=4; total time=   0.0s\n",
      "[CV] END ........................................max_depth=5; total time=   0.0s\n",
      "[CV] END ........................................max_depth=5; total time=   0.1s\n",
      "[CV] END ........................................max_depth=5; total time=   0.0s\n",
      "[CV] END ........................................max_depth=6; total time=   0.0s[CV] END ........................................max_depth=5; total time=   0.1s\n",
      "\n",
      "[CV] END ........................................max_depth=5; total time=   0.1s\n",
      "[CV] END ........................................max_depth=6; total time=   0.1s\n",
      "[CV] END ........................................max_depth=6; total time=   0.1s\n",
      "[CV] END ........................................max_depth=6; total time=   0.0s[CV] END ........................................max_depth=7; total time=   0.0s[CV] END ........................................max_depth=7; total time=   0.0s\n",
      "\n",
      "\n",
      "[CV] END ........................................max_depth=6; total time=   0.1s\n",
      "[CV] END ........................................max_depth=2; total time=   0.0s\n",
      "[CV] END ........................................max_depth=7; total time=   0.0s\n",
      "[CV] END ........................................max_depth=7; total time=   0.1s\n",
      "[CV] END ........................................max_depth=8; total time=   0.0s\n",
      "[CV] END ........................................max_depth=7; total time=   0.1s\n",
      "[CV] END ........................................max_depth=8; total time=   0.1s\n",
      "[CV] END ........................................max_depth=8; total time=   0.1s\n",
      "[CV] END ........................................max_depth=9; total time=   0.1s[CV] END ........................................max_depth=8; total time=   0.1s\n",
      "[CV] END ........................................max_depth=8; total time=   0.1s\n",
      "\n",
      "[CV] END ........................................max_depth=9; total time=   0.1s\n",
      "[CV] END ........................................max_depth=9; total time=   0.1s[CV] END ........................................max_depth=9; total time=   0.1s\n",
      "[CV] END .......................................max_depth=10; total time=   0.0s\n",
      "\n",
      "[CV] END .......................................max_depth=10; total time=   0.1s\n",
      "[CV] END .......................................max_depth=11; total time=   0.1s\n",
      "[CV] END .......................................max_depth=11; total time=   0.1s\n",
      "[CV] END .......................................max_depth=10; total time=   0.1s\n",
      "[CV] END .......................................max_depth=11; total time=   0.1s\n",
      "[CV] END .......................................max_depth=10; total time=   0.1s\n",
      "[CV] END .......................................max_depth=11; total time=   0.1s[CV] END .......................................max_depth=10; total time=   0.1s[CV] END ........................................max_depth=9; total time=   0.1s\n",
      "\n",
      "\n",
      "[CV] END .......................................max_depth=11; total time=   0.1s\n",
      "[CV] END .......................................max_depth=13; total time=   0.0s\n",
      "[CV] END .......................................max_depth=12; total time=   0.1s\n",
      "[CV] END .......................................max_depth=12; total time=   0.1s\n",
      "[CV] END .......................................max_depth=12; total time=   0.1s\n",
      "[CV] END .......................................max_depth=13; total time=   0.1s\n",
      "[CV] END .......................................max_depth=14; total time=   0.0s\n",
      "[CV] END .......................................max_depth=13; total time=   0.1s\n",
      "[CV] END .......................................max_depth=12; total time=   0.1s\n",
      "[CV] END .......................................max_depth=14; total time=   0.1s\n",
      "[CV] END .......................................max_depth=12; total time=   0.1s\n",
      "[CV] END .......................................max_depth=14; total time=   0.1s\n",
      "[CV] END .......................................max_depth=13; total time=   0.1s\n",
      "[CV] END .......................................max_depth=13; total time=   0.0s\n",
      "[CV] END .......................................max_depth=15; total time=   0.1s[CV] END .......................................max_depth=14; total time=   0.0s\n",
      "[CV] END .......................................max_depth=15; total time=   0.1s\n",
      "\n",
      "[CV] END .......................................max_depth=14; total time=   0.1s\n",
      "[CV] END .......................................max_depth=15; total time=   0.1s\n",
      "[CV] END .......................................max_depth=16; total time=   0.1s\n",
      "[CV] END .......................................max_depth=16; total time=   0.0s\n",
      "[CV] END .......................................max_depth=15; total time=   0.1s\n",
      "[CV] END .......................................max_depth=17; total time=   0.1s\n",
      "[CV] END .......................................max_depth=16; total time=   0.1s\n",
      "[CV] END .......................................max_depth=15; total time=   0.1s\n",
      "[CV] END .......................................max_depth=16; total time=   0.1s\n",
      "[CV] END .......................................max_depth=17; total time=   0.1s\n",
      "[CV] END .......................................max_depth=16; total time=   0.0s\n",
      "[CV] END .......................................max_depth=17; total time=   0.1s\n",
      "[CV] END .......................................max_depth=17; total time=   0.1s\n",
      "[CV] END .......................................max_depth=18; total time=   0.1s\n",
      "[CV] END .......................................max_depth=19; total time=   0.1s\n",
      "[CV] END .......................................max_depth=19; total time=   0.0s\n",
      "[CV] END .......................................max_depth=18; total time=   0.1s\n",
      "[CV] END .......................................max_depth=17; total time=   0.1s\n",
      "[CV] END .......................................max_depth=18; total time=   0.1s\n",
      "[CV] END .......................................max_depth=18; total time=   0.0s\n",
      "[CV] END .......................................max_depth=19; total time=   0.1s\n",
      "[CV] END .......................................max_depth=19; total time=   0.1s\n",
      "[CV] END .......................................max_depth=19; total time=   0.1s\n",
      "[CV] END .....................................max_depth=None; total time=   0.0s\n",
      "[CV] END .....................................max_depth=None; total time=   0.0s[CV] END .......................................max_depth=18; total time=   0.1s\n",
      "\n",
      "[CV] END .....................................max_depth=None; total time=   0.1s\n",
      "[CV] END .....................................max_depth=None; total time=   0.1s\n",
      "[CV] END .....................................max_depth=None; total time=   0.0s\n",
      "Training done in 2.403977870941162s\n",
      "Decision Tree best estimator found using grid search: DecisionTreeClassifier(max_depth=9)\n"
     ]
    }
   ],
   "source": [
    "print(\"Creating Decision Tree model...\")\n",
    "decision_tree_model = tree.DecisionTreeClassifier()\n",
    "\n",
    "print(\"Training Decision Tree model using grid search and cross validation...\")\n",
    "max_depth_list = list(range(1,20))\n",
    "max_depth_list.append(None)\n",
    "param_grid = dict(max_depth= max_depth_list)\n",
    "\n",
    "decision_tree_model = GridSearchCV(decision_tree_model, param_grid, cv=5, verbose=2, n_jobs=os.cpu_count()-1)\n",
    "t_start = time()\n",
    "decision_tree_model.fit(X_train, Y_train)\n",
    "print(\"Training done in {}s\".format(time()-t_start))\n",
    "\n",
    "decision_tree_best_estimator = decision_tree_model.best_estimator_\n",
    "print(\"Decision Tree best estimator found using grid search: {}\".format(decision_tree_best_estimator))\n"
   ]
  },
  {
   "cell_type": "markdown",
   "metadata": {
    "collapsed": false
   },
   "source": [
    "### Create the final model using the best estimator found"
   ]
  },
  {
   "cell_type": "code",
   "execution_count": 22,
   "metadata": {
    "collapsed": false,
    "pycharm": {
     "name": "#%%\n"
    }
   },
   "outputs": [
    {
     "name": "stdout",
     "output_type": "stream",
     "text": [
      "Creating final Decision Tree model...\n",
      "Training final Decision Tree model...\n",
      "\ttraining done in 0.0395047664642334s\n",
      "Testing final Decision Tree model...\n",
      "              precision    recall  f1-score   support\n",
      "\n",
      "       blues       0.47      0.38      0.42        21\n",
      "   classical       0.80      0.80      0.80        20\n",
      "     country       0.34      0.50      0.41        20\n",
      "       disco       0.32      0.40      0.36        20\n",
      "      hiphop       0.40      0.30      0.34        20\n",
      "        jazz       0.41      0.35      0.38        20\n",
      "       metal       0.78      0.70      0.74        20\n",
      "         pop       0.70      0.70      0.70        20\n",
      "      reggae       0.52      0.65      0.58        20\n",
      "        rock       0.27      0.20      0.23        20\n",
      "\n",
      "    accuracy                           0.50       201\n",
      "   macro avg       0.50      0.50      0.49       201\n",
      "weighted avg       0.50      0.50      0.49       201\n",
      "\n"
     ]
    },
    {
     "data": {
      "image/png": "[encoded data removed]",
      "text/plain": [
       "<Figure size 432x288 with 2 Axes>"
      ]
     },
     "metadata": {
      "needs_background": "light"
     },
     "output_type": "display_data"
    }
   ],
   "source": [
    "print(\"Creating final Decision Tree model...\")\n",
    "decision_tree_model = decision_tree_best_estimator\n",
    "print(\"Training final Decision Tree model...\")\n",
    "t_start = time()\n",
    "decision_tree_model.fit(X_train,Y_train)\n",
    "print(\"\\ttraining done in {}s\".format(time()-t_start))\n",
    "\n",
    "print(\"Testing final Decision Tree model...\")\n",
    "preds_valid=decision_tree_model.predict(X_test)\n",
    "# Metrics off the dataset\n",
    "print(classification_report(Y_test, preds_valid, target_names=unique_label_names))\n",
    "# Plot confusion matrix\n",
    "ConfusionMatrixDisplay.from_predictions(Y_test, preds_valid, display_labels=unique_label_names)\n",
    "plt.title(\"Decision Tree Confusion matrix\")\n",
    "plt.show()\n",
    "# plot_confusion_matrix(y_test_index, preds_valid_id, classes=unique_label_names, title='Decision Tree Confusion matrix')"
   ]
  },
  {
   "cell_type": "markdown",
   "metadata": {
    "collapsed": false
   },
   "source": [
    "### Export model results in a visual tree using graphviz"
   ]
  },
  {
   "cell_type": "code",
   "execution_count": 23,
   "metadata": {
    "collapsed": false,
    "pycharm": {
     "name": "#%%\n"
    }
   },
   "outputs": [
    {
     "name": "stdout",
     "output_type": "stream",
     "text": [
      "Using graphviz to export model results in a visual tree...\n",
      "DONE\n"
     ]
    }
   ],
   "source": [
    "print(\"Using graphviz to export model results in a visual tree...\")\n",
    "dot_data = tree.export_graphviz(decision_tree_model, out_file=None, feature_names=features_name, class_names=unique_label_names, filled=True, rounded=True, special_characters=True)\n",
    "graph = graphviz.Source(dot_data)\n",
    "graph.render(GRAPHVIZ_NAME)\n",
    "print(\"DONE\")"
   ]
  },
  {
   "cell_type": "markdown",
   "metadata": {
    "collapsed": false
   },
   "source": [
    "### Export model to csv file"
   ]
  },
  {
   "cell_type": "code",
   "execution_count": 24,
   "metadata": {
    "collapsed": false,
    "pycharm": {
     "name": "#%%\n"
    }
   },
   "outputs": [
    {
     "name": "stdout",
     "output_type": "stream",
     "text": [
      "CSV file  path: ./cart_model_mfcc.csv\n",
      "CSV file  header: ['node_id', 'threshold', 'feature_id', 'left_children_id', 'right_children_id', 'class']\n"
     ]
    }
   ],
   "source": [
    "print(\"CSV file  path: {}\".format(CART_MODEL_CSV))\n",
    "print(\"CSV file  header: {}\".format(CSV_HEADER))\n",
    "tree_to_csv(tree=decision_tree_model, class_names=unique_label_names, csv_file=CART_MODEL_CSV)"
   ]
  }
 ],
 "metadata": {
  "kernelspec": {
   "display_name": "Python 3",
   "language": "python",
   "name": "python3"
  },
  "language_info": {
   "codemirror_mode": {
    "name": "ipython",
    "version": 3
   },
   "file_extension": ".py",
   "mimetype": "text/x-python",
   "name": "python",
   "nbconvert_exporter": "python",
   "pygments_lexer": "ipython3",
   "version": "3.8.10"
  }
 },
 "nbformat": 4,
 "nbformat_minor": 0
}
